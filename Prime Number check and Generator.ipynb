{
  "nbformat": 4,
  "nbformat_minor": 0,
  "metadata": {
    "colab": {
      "provenance": []
    },
    "kernelspec": {
      "name": "python3",
      "display_name": "Python 3"
    },
    "language_info": {
      "name": "python"
    }
  },
  "cells": [
    {
      "cell_type": "code",
      "execution_count": 3,
      "metadata": {
        "colab": {
          "base_uri": "https://localhost:8080/"
        },
        "id": "XZAUG3ZDNlyc",
        "outputId": "d8419ddd-c2b8-4501-d3fa-f2349f350fd4"
      },
      "outputs": [
        {
          "output_type": "stream",
          "name": "stdout",
          "text": [
            "Enter a number to check if it's prime: 7\n",
            "7 is a prime number.\n",
            "Enter a limit to generate prime numbers up to: 89\n",
            "Prime numbers up to 89 : [2, 3, 5, 7, 11, 13, 17, 19, 23, 29, 31, 37, 41, 43, 47, 53, 59, 61, 67, 71, 73, 79, 83, 89]\n"
          ]
        }
      ],
      "source": [
        "\n",
        "#Checking for prime number\n",
        "def is_prime(n):\n",
        "    if n < 2:\n",
        "        return False\n",
        "    for i in range(2, n):\n",
        "      #checking if the number is divisible by any number between 2 and n\n",
        "        if n % i == 0:\n",
        "            return False\n",
        "    return True\n",
        "\n",
        "#Generating Prime Numbers to the entered Limit\n",
        "def prime_generator(limit):\n",
        "  #defining a list\n",
        "    primes = []\n",
        "    for num in range(2, limit + 1):\n",
        "        if is_prime(num):\n",
        "          #Calling isPRime function to check if the number in the range is prime or not\n",
        "            primes.append(num)\n",
        "    return primes\n",
        "\n",
        "#definition of main execution of program\n",
        "if __name__ == \"__main__\":\n",
        "    number = int(input(\"Enter a number to check if it's prime: \"))\n",
        "    if is_prime(number):\n",
        "        print(f\"{number} is a prime number.\")\n",
        "    else:\n",
        "        print(f\"{number} is not a prime number.\")\n",
        "\n",
        "    limit = int(input(\"Enter a limit to generate prime numbers up to: \"))\n",
        "    print(\"Prime numbers up to\", limit, \":\", prime_generator(limit))\n"
      ]
    }
  ]
}